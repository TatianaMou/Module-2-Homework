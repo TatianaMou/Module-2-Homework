{
 "cells": [
  {
   "cell_type": "markdown",
   "id": "c209b646",
   "metadata": {},
   "source": [
    "### Homework #2"
   ]
  },
  {
   "cell_type": "markdown",
   "id": "869ebfd6",
   "metadata": {},
   "source": [
    "1. Round 4.5667 to the nearest hundreth (2 decimals) using a build-in function, round()."
   ]
  },
  {
   "cell_type": "code",
   "execution_count": 1,
   "id": "123658aa",
   "metadata": {},
   "outputs": [
    {
     "data": {
      "text/plain": [
       "4.57"
      ]
     },
     "execution_count": 1,
     "metadata": {},
     "output_type": "execute_result"
    }
   ],
   "source": [
    "round (4.5667, 2)"
   ]
  },
  {
   "cell_type": "markdown",
   "id": "9d3f352c",
   "metadata": {},
   "source": [
    "2. Convert \"657\" to an integer data type"
   ]
  },
  {
   "cell_type": "code",
   "execution_count": 7,
   "id": "d5a67683",
   "metadata": {},
   "outputs": [
    {
     "data": {
      "text/plain": [
       "657"
      ]
     },
     "execution_count": 7,
     "metadata": {},
     "output_type": "execute_result"
    }
   ],
   "source": [
    "int(\"657\")"
   ]
  },
  {
   "cell_type": "markdown",
   "id": "a36f06d4",
   "metadata": {},
   "source": [
    "3. Write a program to get two numbers from a user. Then, create a 6-digit code that is a series of randomly generated numbers between the two numbers given by the user. Print the 6-digit code so all digits are separated by a dash. "
   ]
  },
  {
   "cell_type": "code",
   "execution_count": 5,
   "id": "8caa43f4",
   "metadata": {},
   "outputs": [
    {
     "name": "stdout",
     "output_type": "stream",
     "text": [
      "Number 1: 1\n",
      "Number 2: 2\n",
      "1-1-1-2-1-2\n"
     ]
    }
   ],
   "source": [
    "import random as rand\n",
    "\n",
    "n1 = int(input(\"Number 1: \"))\n",
    "n2 = int(input(\"Number 2: \"))\n",
    "\n",
    "r1 = rand.randint(n1, n2)\n",
    "r2 = rand.randint(n1, n2)\n",
    "r3 = rand.randint(n1, n2)\n",
    "r4 = rand.randint(n1, n2)\n",
    "r5 = rand.randint(n1, n2)\n",
    "r6 = rand.randint(n1, n2)\n",
    "\n",
    "# I used the sep command to be automatically placed between the generated variables.\n",
    "# I know that you can also use a string(?) statement where you use f and then do {r1}-{r2} to get the same result, but this seemed more efficient\n",
    "print(r1, r2, r3, r4, r5, r6, sep = \"-\")"
   ]
  },
  {
   "cell_type": "markdown",
   "id": "ee1441a1",
   "metadata": {},
   "source": [
    "4. Write a program to remove ALL the white spaces from the following text:\n",
    "\n",
    "        Hickory, dickory, dock,     \n",
    "        The mouse ran up the clock.   \n",
    "        The clock struck one,   \n",
    "        The mouse ran down,                      \n",
    "        Hickory, dickory, dock                  "
   ]
  },
  {
   "cell_type": "code",
   "execution_count": 21,
   "id": "8bf680f1",
   "metadata": {},
   "outputs": [],
   "source": [
    "l1 = \"Hickory, dickory, dock,     \"\n",
    "l2 = \"The mouse ran up the clock.   \"\n",
    "l3 = \" The clock struck one,   \"\n",
    "l4 = \"The mouse ran down,                      \"\n",
    "l5 = \"Hickory, dickory, dock       \""
   ]
  },
  {
   "cell_type": "code",
   "execution_count": 22,
   "id": "59d9c718",
   "metadata": {},
   "outputs": [],
   "source": [
    "l1 = l1.replace (\" \", \"\")\n",
    "l2 = l2.replace (\" \", \"\")\n",
    "l3 = l3.replace (\" \", \"\")\n",
    "l4 = l4.replace (\" \", \"\")\n",
    "l5 = l5.replace (\" \", \"\")"
   ]
  },
  {
   "cell_type": "code",
   "execution_count": 23,
   "id": "11c24618",
   "metadata": {},
   "outputs": [
    {
     "name": "stdout",
     "output_type": "stream",
     "text": [
      "Hickory,dickory,dock,\n",
      "Themouseranuptheclock.\n",
      "Theclockstruckone,\n",
      "Themouserandown,\n",
      "Hickory,dickory,dock\n"
     ]
    }
   ],
   "source": [
    "print (f\"{l1}\\n{l2}\\n{l3}\\n{l4}\\n{l5}\")"
   ]
  },
  {
   "cell_type": "markdown",
   "id": "72d87b5b",
   "metadata": {},
   "source": [
    "5. Write a function to calculate the miles per gallon. Get a miles driven and gallons used from a user and call your function to calculate the miles per gallon."
   ]
  },
  {
   "cell_type": "code",
   "execution_count": 18,
   "id": "27be7372",
   "metadata": {},
   "outputs": [
    {
     "name": "stdout",
     "output_type": "stream",
     "text": [
      "Miles Driven: 47\n",
      "Gallons used: 4.6\n",
      "47.0 miles / 4.6 gallons = 10.22 miles per gallon\n"
     ]
    }
   ],
   "source": [
    "def mpg():\n",
    "    miles = float(input(\"Miles Driven: \")) #float because it can be in the decimal place\n",
    "    gallons = float(input(\"Gallons used: \"))\n",
    "    \n",
    "    mpg = miles/gallons #the equation to calculate miles per gallon\n",
    "    \n",
    "    print (f\"{miles} miles / {gallons} gallons = {mpg:.2f} miles per gallon\")\n",
    "\n",
    "mpg()"
   ]
  },
  {
   "cell_type": "markdown",
   "id": "1f3942b8",
   "metadata": {},
   "source": [
    "6. Enhance the <b>compute()</b> function created during Module 2. Enhance the function to compute a circle's area and circumference where:\n",
    "\n",
    " - circle's area = 3.14 X (radius X radius)   \n",
    " - circle's circumference = 3.14 X diameter"
   ]
  },
  {
   "cell_type": "code",
   "execution_count": 20,
   "id": "df43daca",
   "metadata": {},
   "outputs": [
    {
     "name": "stdout",
     "output_type": "stream",
     "text": [
      "Enter length: 5\n",
      "Enter width: 6\n",
      "Area = 5.0 x 6.0\n",
      "Perimeter = 2 x (5.0 + 6.0)\n",
      "\n",
      "Area = 30.0\n",
      "Perimeter = 22.0\n"
     ]
    }
   ],
   "source": [
    "# original compute() code\n",
    "\n",
    "# a = area\n",
    "# p = perimeter\n",
    "# w = width\n",
    "# l = length\n",
    "\n",
    "def compute():\n",
    "    l = float(input(\"Enter length: \"))\n",
    "    w = float(input(\"Enter width: \"))\n",
    "    \n",
    "    a = l * w\n",
    "    p = 2 * (l + w)\n",
    "    \n",
    "    print (f\"Area = {l} x {w}\")\n",
    "    print (f\"Perimeter = 2 x ({l} + {w})\\n\")\n",
    "    \n",
    "    print (f\"Area = {a}\")\n",
    "    print (f\"Perimeter = {p}\")\n",
    "    \n",
    "compute()"
   ]
  },
  {
   "cell_type": "code",
   "execution_count": 35,
   "id": "fa8de89a",
   "metadata": {},
   "outputs": [
    {
     "name": "stdout",
     "output_type": "stream",
     "text": [
      "Enter radius: 4.6\n",
      "Enter diameter: 7\n",
      "\n",
      "Area = 3.14 * (4.6 * 4.6)\n",
      "Circumfrence = 3.14 * 7.0\n",
      "\n",
      "Area = 66.44\n",
      "Circumfrence = 21.98\n"
     ]
    }
   ],
   "source": [
    "# updated compute code for circle\n",
    "\n",
    "# r = radius\n",
    "# d = diameter\n",
    "# ca = circle area\n",
    "# c = circumfrence\n",
    "\n",
    "def compute2():\n",
    "    r = float(input(\"Enter radius: \"))\n",
    "    d = float(input(\"Enter diameter: \"))\n",
    "    \n",
    "    ca = 3.14 * (r * r)\n",
    "    c = 3.14 * d\n",
    "    \n",
    "    print (f\"\\nArea = 3.14 * ({r} * {r})\")\n",
    "    print (f\"Circumfrence = 3.14 * {d}\")\n",
    "    \n",
    "    print (f\"\\nArea = {ca:.2f}\")\n",
    "    print (f\"Circumfrence = {c:.2f}\")\n",
    "\n",
    "compute2()"
   ]
  },
  {
   "cell_type": "markdown",
   "id": "4c5d83bb",
   "metadata": {},
   "source": [
    "###### 7. Write a function called multiply_two() that accepts two parameters. The function should print a message like '15 * 2 = 30'.  Randomly generate two numbers between 1 and 100, then call the function with the two random numbers."
   ]
  },
  {
   "cell_type": "code",
   "execution_count": 49,
   "id": "527fe39a",
   "metadata": {},
   "outputs": [],
   "source": [
    "import random as rand"
   ]
  },
  {
   "cell_type": "code",
   "execution_count": 50,
   "id": "fe5ca2dc",
   "metadata": {},
   "outputs": [],
   "source": [
    "def multiply_two(x , y):\n",
    "    print (f\"{x} x {y} = {x * y}\")"
   ]
  },
  {
   "cell_type": "code",
   "execution_count": 51,
   "id": "9f83774c",
   "metadata": {},
   "outputs": [
    {
     "name": "stdout",
     "output_type": "stream",
     "text": [
      "40 x 14 = 560\n"
     ]
    }
   ],
   "source": [
    "n1 = rand.randint (1, 100)\n",
    "n2 = rand.randint (1, 100)\n",
    "\n",
    "multiply_two(n1, n2)"
   ]
  },
  {
   "cell_type": "markdown",
   "id": "36865477",
   "metadata": {},
   "source": [
    "8. Create a function for a multiplication table.  Get a number from a user and then call you function which produces a multiplication table for that number.\n",
    "The output should look something like this:\n",
    "\n",
    "        Enter a number: 3\n",
    "        3 X 1 = 3\n",
    "        3 X 2 = 6\n",
    "        3 X 3 = 9\n",
    "        3 X 4 = 12\n",
    "        3 X 5 = 15\n",
    "        3 X 6 = 18\n",
    "        3 X 7 = 21\n",
    "        3 X 8 = 24\n",
    "        3 X 9 = 27"
   ]
  },
  {
   "cell_type": "code",
   "execution_count": 10,
   "id": "b023e863",
   "metadata": {},
   "outputs": [
    {
     "name": "stdout",
     "output_type": "stream",
     "text": [
      "Multiplacation Table\n",
      "Enter a number: 5\n",
      "5 x 1 = 5\n",
      "5 x 2 = 10\n",
      "5 x 3 = 15\n",
      "5 x 4 = 20\n",
      "5 x 5 = 25\n",
      "5 x 6 = 30\n",
      "5 x 7 = 35\n",
      "5 x 8 = 40\n",
      "5 x 9 = 45\n",
      "5 x 10 = 50\n"
     ]
    }
   ],
   "source": [
    "print (\"Multiplacation Table\")\n",
    "# ask the user for the number theyd like to multiple\n",
    "n = int(input(\"Enter a number: \"))\n",
    "\n",
    "def multi_table(x):\n",
    "    print(f\"{x} x 1 = {x * 1}\")\n",
    "    print(f\"{x} x 2 = {x * 2}\")\n",
    "    print(f\"{x} x 3 = {x * 3}\")\n",
    "    print(f\"{x} x 4 = {x * 4}\")\n",
    "    print(f\"{x} x 5 = {x * 5}\")\n",
    "    print(f\"{x} x 6 = {x * 6}\")\n",
    "    print(f\"{x} x 7 = {x * 7}\")\n",
    "    print(f\"{x} x 8 = {x * 8}\")\n",
    "    print(f\"{x} x 9 = {x * 9}\")\n",
    "    print(f\"{x} x 10 = {x * 10}\")\n",
    "    \n",
    "multi_table(n)"
   ]
  },
  {
   "cell_type": "markdown",
   "id": "2da0b0d1",
   "metadata": {},
   "source": []
  }
 ],
 "metadata": {
  "kernelspec": {
   "display_name": "Python 3 (ipykernel)",
   "language": "python",
   "name": "python3"
  },
  "language_info": {
   "codemirror_mode": {
    "name": "ipython",
    "version": 3
   },
   "file_extension": ".py",
   "mimetype": "text/x-python",
   "name": "python",
   "nbconvert_exporter": "python",
   "pygments_lexer": "ipython3",
   "version": "3.9.13"
  }
 },
 "nbformat": 4,
 "nbformat_minor": 5
}
